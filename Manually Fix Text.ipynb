{
 "cells": [
  {
   "cell_type": "code",
   "execution_count": null,
   "id": "b8b589cc",
   "metadata": {},
   "outputs": [],
   "source": [
    "import sqlite3\n",
    "import pandas as pd"
   ]
  },
  {
   "cell_type": "code",
   "execution_count": 3,
   "id": "9d9661a9",
   "metadata": {},
   "outputs": [],
   "source": [
    "name = 'Operation_Lonestar'\n",
    "con = sqlite3.connect(f\"{name}_db.sqlite\")"
   ]
  },
  {
   "cell_type": "code",
   "execution_count": null,
   "id": "88f6f4e6",
   "metadata": {},
   "outputs": [],
   "source": [
    "df = pd.read_sql_query(\"SELECT * from RSS_Hits t1 LEFT JOIN Scrape_Status t2 on t1.GUID = t2.GUID WHERE t2.Failed_Scrape = True AND t2.Manually_Fixed = False AND t2.Dead_Letter = False\", con)\n",
    "df = df.loc[:,~df.columns.duplicated()]\n",
    "\n",
    "if len(df)>0:\n",
    "\n",
    "    print(df.iloc[0][['Link']])\n",
    "\n",
    "    guid = df.iloc[0]['GUID']\n",
    "    foundtext = input(\"Copy and paste the body text from the article above\")\n",
    "\n",
    "    cursor = con. cursor()\n",
    "\n",
    "    cursor.execute(\"INSERT INTO Body_Text(GUID, Body) VALUES (?,?);\", (guid, foundtext))\n",
    "    con.commit()\n",
    "\n",
    "    cursor.execute(\"\"\"UPDATE Scrape_Status\n",
    "                    SET Manually_Fixed = ?\n",
    "                    WHERE GUID = ?;\"\"\", (True, guid))\n",
    "    con.commit()\n",
    "    del(guid)\n",
    "    del(foundtext)"
   ]
  },
  {
   "cell_type": "code",
   "execution_count": null,
   "id": "39c21f84",
   "metadata": {},
   "outputs": [],
   "source": []
  }
 ],
 "metadata": {
  "kernelspec": {
   "display_name": "NLP",
   "language": "python",
   "name": "nlp"
  },
  "language_info": {
   "codemirror_mode": {
    "name": "ipython",
    "version": 3
   },
   "file_extension": ".py",
   "mimetype": "text/x-python",
   "name": "python",
   "nbconvert_exporter": "python",
   "pygments_lexer": "ipython3",
   "version": "3.8.11"
  }
 },
 "nbformat": 4,
 "nbformat_minor": 5
}

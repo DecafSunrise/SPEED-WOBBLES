{
 "cells": [
  {
   "cell_type": "code",
   "execution_count": null,
   "id": "2f4becbc",
   "metadata": {},
   "outputs": [],
   "source": [
    "import pandas as pd\n",
    "import sqlite3\n",
    "\n",
    "name = 'Operation_Lonestar'\n",
    "con = sqlite3.connect(f\"{name}_db.sqlite\")"
   ]
  },
  {
   "cell_type": "code",
   "execution_count": null,
   "id": "42176cb6",
   "metadata": {},
   "outputs": [],
   "source": [
    "URLlist = list()\n",
    "while True:\n",
    "    URLlist.append(input(\"Paste your link here: \\n>>\"))"
   ]
  },
  {
   "cell_type": "code",
   "execution_count": null,
   "id": "533702b6",
   "metadata": {},
   "outputs": [],
   "source": [
    "# Create Dataframe\n",
    "df_url = pd.DataFrame(URLlist, columns=['Link'])\n",
    "# Drop duplicates you pasted in\n",
    "df_url = df_url.drop_duplicates(subset=['Link'])\n",
    "\n",
    "# Load up existing manual links\n",
    "df_existing = pd.read_sql_query(\"SELECT * from Manually_Added_Links\", con)\n",
    "\n",
    "print(f\"You've got {len(df_url)} links to manually add, deduplicating...\")\n",
    "## Make sure we aren't injecting stuff that we've already got\n",
    "df_url = df_url[~df_url['Link'].isin(df_existing['Link'])]\n",
    "print(f\"You've got {len(df_url)} links after deduplication.\")"
   ]
  },
  {
   "cell_type": "code",
   "execution_count": null,
   "id": "90753e06",
   "metadata": {},
   "outputs": [],
   "source": [
    "df_url.to_sql(\"Manually_Added_Links\", con, if_exists=\"append\", index=False)"
   ]
  },
  {
   "cell_type": "code",
   "execution_count": null,
   "id": "a63da3b3",
   "metadata": {},
   "outputs": [],
   "source": []
  }
 ],
 "metadata": {
  "kernelspec": {
   "display_name": "NLP",
   "language": "python",
   "name": "nlp"
  },
  "language_info": {
   "codemirror_mode": {
    "name": "ipython",
    "version": 3
   },
   "file_extension": ".py",
   "mimetype": "text/x-python",
   "name": "python",
   "nbconvert_exporter": "python",
   "pygments_lexer": "ipython3",
   "version": "3.8.11"
  }
 },
 "nbformat": 4,
 "nbformat_minor": 5
}
